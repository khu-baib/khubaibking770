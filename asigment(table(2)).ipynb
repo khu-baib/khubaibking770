{
  "nbformat": 4,
  "nbformat_minor": 0,
  "metadata": {
    "colab": {
      "provenance": [],
      "authorship_tag": "ABX9TyNUg1yiyO8DHzs/yYtnHN8g",
      "include_colab_link": true
    },
    "kernelspec": {
      "name": "python3",
      "display_name": "Python 3"
    },
    "language_info": {
      "name": "python"
    }
  },
  "cells": [
    {
      "cell_type": "markdown",
      "metadata": {
        "id": "view-in-github",
        "colab_type": "text"
      },
      "source": [
        "<a href=\"https://colab.research.google.com/github/khu-baib/khubaibking770/blob/main/asigment(table(2)).ipynb\" target=\"_parent\"><img src=\"https://colab.research.google.com/assets/colab-badge.svg\" alt=\"Open In Colab\"/></a>"
      ]
    },
    {
      "cell_type": "markdown",
      "source": [
        "**project table (2)**"
      ],
      "metadata": {
        "id": "73O6_AZ6orEt"
      }
    },
    {
      "cell_type": "code",
      "source": [
        "# 2 ka table likhne ka code\n",
        "number = 2\n",
        "\n",
        "print(f\"{number} ka table:\")\n",
        "for i in range(1, 11):\n",
        "    print(f\"{number} x {i} = {number * i}\")\n"
      ],
      "metadata": {
        "colab": {
          "base_uri": "https://localhost:8080/"
        },
        "id": "Ply2uhZPqHW4",
        "outputId": "6baa3f8d-bddd-42eb-960d-b481b2549333"
      },
      "execution_count": null,
      "outputs": [
        {
          "output_type": "stream",
          "name": "stdout",
          "text": [
            "2 ka table:\n",
            "2 x 1 = 2\n",
            "2 x 2 = 4\n",
            "2 x 3 = 6\n",
            "2 x 4 = 8\n",
            "2 x 5 = 10\n",
            "2 x 6 = 12\n",
            "2 x 7 = 14\n",
            "2 x 8 = 16\n",
            "2 x 9 = 18\n",
            "2 x 10 = 20\n"
          ]
        }
      ]
    },
    {
      "cell_type": "markdown",
      "source": [
        "**Grade system**"
      ],
      "metadata": {
        "id": "HiFoOf1YqvBM"
      }
    },
    {
      "cell_type": "code",
      "source": [
        "# Grade System Assignment Code\n",
        "\n",
        "# User se marks input lena\n",
        "marks = float(input(\"Apne marks dijiye (0-100 ke darmiyan): \"))\n",
        "\n",
        "# Grade calculation\n",
        "if marks < 0 or marks > 100:\n",
        "    print(\"Invalid percentage Please enter a value between 0 and 100.\")\n",
        "elif marks >= 90:\n",
        "    print(\"Grade: A+\")\n",
        "elif marks >= 80:\n",
        "    print(\"Grade: A\")\n",
        "elif marks >= 70:\n",
        "    print(\"Grade: B\")\n",
        "elif marks >= 60:\n",
        "    print(\"Grade: C\")\n",
        "elif marks >= 50:\n",
        "    print(\"Grade: D\")\n",
        "else:\n",
        "    print(\"Grade: F (Fail)\")\n",
        "\n",
        "# Program ka end\n",
        "print(\"Grade Job! 😊\")"
      ],
      "metadata": {
        "colab": {
          "base_uri": "https://localhost:8080/"
        },
        "id": "3FgB85UlrDT-",
        "outputId": "63362399-1345-404a-d0f4-edc71d3c14f1"
      },
      "execution_count": null,
      "outputs": [
        {
          "output_type": "stream",
          "name": "stdout",
          "text": [
            "Apne marks dijiye (0-100 ke darmiyan): 99\n",
            "Grade: A+\n",
            "Grade Job! 😊\n"
          ]
        }
      ]
    }
  ]
}